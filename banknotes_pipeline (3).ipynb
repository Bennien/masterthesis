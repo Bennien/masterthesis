{
  "nbformat": 4,
  "nbformat_minor": 0,
  "metadata": {
    "colab": {
      "provenance": []
    },
    "kernelspec": {
      "name": "python3",
      "display_name": "Python 3"
    },
    "language_info": {
      "name": "python"
    }
  },
  "cells": [
    {
      "cell_type": "markdown",
      "source": [
        "## Scenario 1: Bank notes dataset\n",
        "\n",
        "**Note:** This notebook accompanies the thesis with the title: xxx by Bibian Bennink. This notebook makes use of code created by others, and this work is explicitly linked. In the thesis document all sources will be properly cited too. \n",
        "\n",
        "###Introduction \n",
        "This notebook is used to compare Confidance Based Performance Estimation  [(CPBE)](https://nannyml.readthedocs.io/en/stable/tutorials/performance_estimation/binary_performance_estimation.html) created by NannyML and Continuous ReEvaluation [(CRE) ](https://link.springer.com/content/pdf/10.1007/s10618-019-00654-y.pdf?pdf=button) created by Grzenda, Gomes and Bifet on the first scenario: Banknotes dataset. \n",
        "\n",
        "The banknotes data set is obtained from the UCI Machine Learning Repository where it is called: [banknote authentication Data Set](https://archive.ics.uci.edu/ml/datasets/banknote+authentication). The data in this dataset is extracted from images taken from genuine and gorged banknotes. "
      ],
      "metadata": {
        "id": "7TaZDelxh6Ml"
      }
    },
    {
      "cell_type": "code",
      "source": [
        "#pip installs\n",
        "!pip install nannyml\n",
        "!pip install matplotlib==3.1.3"
      ],
      "metadata": {
        "colab": {
          "base_uri": "https://localhost:8080/",
          "height": 1000
        },
        "id": "Tet6SYZziVUW",
        "outputId": "d5c828a0-8401-407b-8be3-4813e4473e31"
      },
      "execution_count": 43,
      "outputs": [
        {
          "output_type": "stream",
          "name": "stdout",
          "text": [
            "Looking in indexes: https://pypi.org/simple, https://us-python.pkg.dev/colab-wheels/public/simple/\n",
            "Requirement already satisfied: nannyml in /usr/local/lib/python3.8/dist-packages (0.8.2)\n",
            "Requirement already satisfied: analytics-python<2.0.0,>=1.4.0 in /usr/local/lib/python3.8/dist-packages (from nannyml) (1.4.0)\n",
            "Requirement already satisfied: python-dateutil<3.0.0,>=2.8.2 in /usr/local/lib/python3.8/dist-packages (from nannyml) (2.8.2)\n",
            "Requirement already satisfied: numpy<2.0,>=1.21 in /usr/local/lib/python3.8/dist-packages (from nannyml) (1.21.6)\n",
            "Requirement already satisfied: psycopg2-binary<3.0.0,>=2.9.3 in /usr/local/lib/python3.8/dist-packages (from nannyml) (2.9.5)\n",
            "Requirement already satisfied: pandas<2.0,>=1.3 in /usr/local/lib/python3.8/dist-packages (from nannyml) (1.3.5)\n",
            "Collecting matplotlib<4.0.0,>=3.5.1\n",
            "  Using cached matplotlib-3.6.3-cp38-cp38-manylinux_2_12_x86_64.manylinux2010_x86_64.whl (9.4 MB)\n",
            "Requirement already satisfied: lightgbm<4.0.0,>=3.3.2 in /usr/local/lib/python3.8/dist-packages (from nannyml) (3.3.5)\n",
            "Requirement already satisfied: PyYAML<7.0,>=6.0 in /usr/local/lib/python3.8/dist-packages (from nannyml) (6.0)\n",
            "Requirement already satisfied: pyfiglet<0.9,>=0.8.post1 in /usr/local/lib/python3.8/dist-packages (from nannyml) (0.8.post1)\n",
            "Requirement already satisfied: kaleido==0.2.1 in /usr/local/lib/python3.8/dist-packages (from nannyml) (0.2.1)\n",
            "Requirement already satisfied: scipy<2.0.0,>=1.7.3 in /usr/local/lib/python3.8/dist-packages (from nannyml) (1.7.3)\n",
            "Requirement already satisfied: gcsfs<2023.0.0,>=2022.5.0 in /usr/local/lib/python3.8/dist-packages (from nannyml) (2022.11.0)\n",
            "Requirement already satisfied: s3fs<2023.0.0,>=2022.8.2 in /usr/local/lib/python3.8/dist-packages (from nannyml) (2022.11.0)\n",
            "Requirement already satisfied: sqlmodel<0.0.9,>=0.0.8 in /usr/local/lib/python3.8/dist-packages (from nannyml) (0.0.8)\n",
            "Requirement already satisfied: APScheduler<4.0.0,>=3.9.1 in /usr/local/lib/python3.8/dist-packages (from nannyml) (3.9.1.post1)\n",
            "Requirement already satisfied: pydantic<2.0.0,>=1.9.1 in /usr/local/lib/python3.8/dist-packages (from nannyml) (1.10.4)\n",
            "Requirement already satisfied: pyarrow<9.0.0,>=8.0.0 in /usr/local/lib/python3.8/dist-packages (from nannyml) (8.0.0)\n",
            "Requirement already satisfied: joblib<2.0.0,>=1.1.0 in /usr/local/lib/python3.8/dist-packages (from nannyml) (1.2.0)\n",
            "Requirement already satisfied: FLAML<2.0.0,>=1.0.11 in /usr/local/lib/python3.8/dist-packages (from nannyml) (1.1.1)\n",
            "Requirement already satisfied: Jinja2<3.1 in /usr/local/lib/python3.8/dist-packages (from nannyml) (2.11.3)\n",
            "Requirement already satisfied: plotly<6.0.0,>=5.6.0 in /usr/local/lib/python3.8/dist-packages (from nannyml) (5.13.0)\n",
            "Requirement already satisfied: category-encoders<3.0.0,>=2.3.0 in /usr/local/lib/python3.8/dist-packages (from nannyml) (2.6.0)\n",
            "Requirement already satisfied: click<9.0.0,>=8.1.3 in /usr/local/lib/python3.8/dist-packages (from nannyml) (8.1.3)\n",
            "Requirement already satisfied: rich<13.0.0,>=12.5.1 in /usr/local/lib/python3.8/dist-packages (from nannyml) (12.6.0)\n",
            "Requirement already satisfied: python-dotenv<0.22.0,>=0.21.0 in /usr/local/lib/python3.8/dist-packages (from nannyml) (0.21.1)\n",
            "Requirement already satisfied: seaborn<0.12.0,>=0.11.2 in /usr/local/lib/python3.8/dist-packages (from nannyml) (0.11.2)\n",
            "Requirement already satisfied: scikit-learn<2.0.0,>=1.0.2 in /usr/local/lib/python3.8/dist-packages (from nannyml) (1.0.2)\n",
            "Requirement already satisfied: backoff==1.10.0 in /usr/local/lib/python3.8/dist-packages (from analytics-python<2.0.0,>=1.4.0->nannyml) (1.10.0)\n",
            "Requirement already satisfied: six>=1.5 in /usr/local/lib/python3.8/dist-packages (from analytics-python<2.0.0,>=1.4.0->nannyml) (1.15.0)\n",
            "Requirement already satisfied: monotonic>=1.5 in /usr/local/lib/python3.8/dist-packages (from analytics-python<2.0.0,>=1.4.0->nannyml) (1.6)\n",
            "Requirement already satisfied: requests<3.0,>=2.7 in /usr/local/lib/python3.8/dist-packages (from analytics-python<2.0.0,>=1.4.0->nannyml) (2.25.1)\n",
            "Requirement already satisfied: tzlocal!=3.*,>=2.0 in /usr/local/lib/python3.8/dist-packages (from APScheduler<4.0.0,>=3.9.1->nannyml) (4.2)\n",
            "Requirement already satisfied: pytz in /usr/local/lib/python3.8/dist-packages (from APScheduler<4.0.0,>=3.9.1->nannyml) (2022.7)\n",
            "Requirement already satisfied: setuptools>=0.7 in /usr/local/lib/python3.8/dist-packages (from APScheduler<4.0.0,>=3.9.1->nannyml) (57.4.0)\n",
            "Requirement already satisfied: patsy>=0.5.1 in /usr/local/lib/python3.8/dist-packages (from category-encoders<3.0.0,>=2.3.0->nannyml) (0.5.3)\n",
            "Requirement already satisfied: statsmodels>=0.9.0 in /usr/local/lib/python3.8/dist-packages (from category-encoders<3.0.0,>=2.3.0->nannyml) (0.12.2)\n",
            "Requirement already satisfied: xgboost>=0.90 in /usr/local/lib/python3.8/dist-packages (from FLAML<2.0.0,>=1.0.11->nannyml) (0.90)\n",
            "Requirement already satisfied: google-auth>=1.2 in /usr/local/lib/python3.8/dist-packages (from gcsfs<2023.0.0,>=2022.5.0->nannyml) (2.16.0)\n",
            "Requirement already satisfied: decorator>4.1.2 in /usr/local/lib/python3.8/dist-packages (from gcsfs<2023.0.0,>=2022.5.0->nannyml) (4.4.2)\n",
            "Requirement already satisfied: fsspec==2022.11.0 in /usr/local/lib/python3.8/dist-packages (from gcsfs<2023.0.0,>=2022.5.0->nannyml) (2022.11.0)\n",
            "Requirement already satisfied: google-auth-oauthlib in /usr/local/lib/python3.8/dist-packages (from gcsfs<2023.0.0,>=2022.5.0->nannyml) (0.4.6)\n",
            "Requirement already satisfied: google-cloud-storage in /usr/local/lib/python3.8/dist-packages (from gcsfs<2023.0.0,>=2022.5.0->nannyml) (2.7.0)\n",
            "Requirement already satisfied: aiohttp!=4.0.0a0,!=4.0.0a1 in /usr/local/lib/python3.8/dist-packages (from gcsfs<2023.0.0,>=2022.5.0->nannyml) (3.8.3)\n",
            "Requirement already satisfied: MarkupSafe>=0.23 in /usr/local/lib/python3.8/dist-packages (from Jinja2<3.1->nannyml) (2.0.1)\n",
            "Requirement already satisfied: wheel in /usr/local/lib/python3.8/dist-packages (from lightgbm<4.0.0,>=3.3.2->nannyml) (0.38.4)\n",
            "Requirement already satisfied: pillow>=6.2.0 in /usr/local/lib/python3.8/dist-packages (from matplotlib<4.0.0,>=3.5.1->nannyml) (7.1.2)\n",
            "Requirement already satisfied: contourpy>=1.0.1 in /usr/local/lib/python3.8/dist-packages (from matplotlib<4.0.0,>=3.5.1->nannyml) (1.0.7)\n",
            "Requirement already satisfied: fonttools>=4.22.0 in /usr/local/lib/python3.8/dist-packages (from matplotlib<4.0.0,>=3.5.1->nannyml) (4.38.0)\n",
            "Requirement already satisfied: cycler>=0.10 in /usr/local/lib/python3.8/dist-packages (from matplotlib<4.0.0,>=3.5.1->nannyml) (0.11.0)\n",
            "Requirement already satisfied: kiwisolver>=1.0.1 in /usr/local/lib/python3.8/dist-packages (from matplotlib<4.0.0,>=3.5.1->nannyml) (1.4.4)\n",
            "Requirement already satisfied: pyparsing>=2.2.1 in /usr/local/lib/python3.8/dist-packages (from matplotlib<4.0.0,>=3.5.1->nannyml) (3.0.9)\n",
            "Requirement already satisfied: packaging>=20.0 in /usr/local/lib/python3.8/dist-packages (from matplotlib<4.0.0,>=3.5.1->nannyml) (21.3)\n",
            "Requirement already satisfied: tenacity>=6.2.0 in /usr/local/lib/python3.8/dist-packages (from plotly<6.0.0,>=5.6.0->nannyml) (8.1.0)\n",
            "Requirement already satisfied: typing-extensions>=4.2.0 in /usr/local/lib/python3.8/dist-packages (from pydantic<2.0.0,>=1.9.1->nannyml) (4.4.0)\n",
            "Requirement already satisfied: pygments<3.0.0,>=2.6.0 in /usr/local/lib/python3.8/dist-packages (from rich<13.0.0,>=12.5.1->nannyml) (2.6.1)\n",
            "Requirement already satisfied: commonmark<0.10.0,>=0.9.0 in /usr/local/lib/python3.8/dist-packages (from rich<13.0.0,>=12.5.1->nannyml) (0.9.1)\n",
            "Requirement already satisfied: aiobotocore~=2.4.0 in /usr/local/lib/python3.8/dist-packages (from s3fs<2023.0.0,>=2022.8.2->nannyml) (2.4.2)\n",
            "Requirement already satisfied: threadpoolctl>=2.0.0 in /usr/local/lib/python3.8/dist-packages (from scikit-learn<2.0.0,>=1.0.2->nannyml) (3.1.0)\n",
            "Requirement already satisfied: sqlalchemy2-stubs in /usr/local/lib/python3.8/dist-packages (from sqlmodel<0.0.9,>=0.0.8->nannyml) (0.0.2a32)\n",
            "Requirement already satisfied: SQLAlchemy<=1.4.41,>=1.4.17 in /usr/local/lib/python3.8/dist-packages (from sqlmodel<0.0.9,>=0.0.8->nannyml) (1.4.41)\n",
            "Requirement already satisfied: aioitertools>=0.5.1 in /usr/local/lib/python3.8/dist-packages (from aiobotocore~=2.4.0->s3fs<2023.0.0,>=2022.8.2->nannyml) (0.11.0)\n",
            "Requirement already satisfied: botocore<1.27.60,>=1.27.59 in /usr/local/lib/python3.8/dist-packages (from aiobotocore~=2.4.0->s3fs<2023.0.0,>=2022.8.2->nannyml) (1.27.59)\n",
            "Requirement already satisfied: wrapt>=1.10.10 in /usr/local/lib/python3.8/dist-packages (from aiobotocore~=2.4.0->s3fs<2023.0.0,>=2022.8.2->nannyml) (1.14.1)\n",
            "Requirement already satisfied: async-timeout<5.0,>=4.0.0a3 in /usr/local/lib/python3.8/dist-packages (from aiohttp!=4.0.0a0,!=4.0.0a1->gcsfs<2023.0.0,>=2022.5.0->nannyml) (4.0.2)\n",
            "Requirement already satisfied: multidict<7.0,>=4.5 in /usr/local/lib/python3.8/dist-packages (from aiohttp!=4.0.0a0,!=4.0.0a1->gcsfs<2023.0.0,>=2022.5.0->nannyml) (6.0.4)\n",
            "Requirement already satisfied: frozenlist>=1.1.1 in /usr/local/lib/python3.8/dist-packages (from aiohttp!=4.0.0a0,!=4.0.0a1->gcsfs<2023.0.0,>=2022.5.0->nannyml) (1.3.3)\n",
            "Requirement already satisfied: attrs>=17.3.0 in /usr/local/lib/python3.8/dist-packages (from aiohttp!=4.0.0a0,!=4.0.0a1->gcsfs<2023.0.0,>=2022.5.0->nannyml) (22.2.0)\n",
            "Requirement already satisfied: charset-normalizer<3.0,>=2.0 in /usr/local/lib/python3.8/dist-packages (from aiohttp!=4.0.0a0,!=4.0.0a1->gcsfs<2023.0.0,>=2022.5.0->nannyml) (2.1.1)\n",
            "Requirement already satisfied: aiosignal>=1.1.2 in /usr/local/lib/python3.8/dist-packages (from aiohttp!=4.0.0a0,!=4.0.0a1->gcsfs<2023.0.0,>=2022.5.0->nannyml) (1.3.1)\n",
            "Requirement already satisfied: yarl<2.0,>=1.0 in /usr/local/lib/python3.8/dist-packages (from aiohttp!=4.0.0a0,!=4.0.0a1->gcsfs<2023.0.0,>=2022.5.0->nannyml) (1.8.2)\n",
            "Requirement already satisfied: rsa<5,>=3.1.4 in /usr/local/lib/python3.8/dist-packages (from google-auth>=1.2->gcsfs<2023.0.0,>=2022.5.0->nannyml) (4.9)\n",
            "Requirement already satisfied: cachetools<6.0,>=2.0.0 in /usr/local/lib/python3.8/dist-packages (from google-auth>=1.2->gcsfs<2023.0.0,>=2022.5.0->nannyml) (5.2.1)\n",
            "Requirement already satisfied: pyasn1-modules>=0.2.1 in /usr/local/lib/python3.8/dist-packages (from google-auth>=1.2->gcsfs<2023.0.0,>=2022.5.0->nannyml) (0.2.8)\n",
            "Requirement already satisfied: certifi>=2017.4.17 in /usr/local/lib/python3.8/dist-packages (from requests<3.0,>=2.7->analytics-python<2.0.0,>=1.4.0->nannyml) (2022.12.7)\n",
            "Requirement already satisfied: idna<3,>=2.5 in /usr/local/lib/python3.8/dist-packages (from requests<3.0,>=2.7->analytics-python<2.0.0,>=1.4.0->nannyml) (2.10)\n",
            "Requirement already satisfied: urllib3<1.27,>=1.21.1 in /usr/local/lib/python3.8/dist-packages (from requests<3.0,>=2.7->analytics-python<2.0.0,>=1.4.0->nannyml) (1.26.14)\n",
            "Requirement already satisfied: chardet<5,>=3.0.2 in /usr/local/lib/python3.8/dist-packages (from requests<3.0,>=2.7->analytics-python<2.0.0,>=1.4.0->nannyml) (4.0.0)\n",
            "Requirement already satisfied: greenlet!=0.4.17 in /usr/local/lib/python3.8/dist-packages (from SQLAlchemy<=1.4.41,>=1.4.17->sqlmodel<0.0.9,>=0.0.8->nannyml) (2.0.1)\n",
            "Requirement already satisfied: backports.zoneinfo in /usr/local/lib/python3.8/dist-packages (from tzlocal!=3.*,>=2.0->APScheduler<4.0.0,>=3.9.1->nannyml) (0.2.1)\n",
            "Requirement already satisfied: pytz-deprecation-shim in /usr/local/lib/python3.8/dist-packages (from tzlocal!=3.*,>=2.0->APScheduler<4.0.0,>=3.9.1->nannyml) (0.1.0.post0)\n",
            "Requirement already satisfied: requests-oauthlib>=0.7.0 in /usr/local/lib/python3.8/dist-packages (from google-auth-oauthlib->gcsfs<2023.0.0,>=2022.5.0->nannyml) (1.3.1)\n",
            "Requirement already satisfied: google-cloud-core<3.0dev,>=2.3.0 in /usr/local/lib/python3.8/dist-packages (from google-cloud-storage->gcsfs<2023.0.0,>=2022.5.0->nannyml) (2.3.2)\n",
            "Requirement already satisfied: google-api-core!=2.0.*,!=2.1.*,!=2.2.*,!=2.3.0,<3.0.0dev,>=1.31.5 in /usr/local/lib/python3.8/dist-packages (from google-cloud-storage->gcsfs<2023.0.0,>=2022.5.0->nannyml) (2.11.0)\n",
            "Requirement already satisfied: google-resumable-media>=2.3.2 in /usr/local/lib/python3.8/dist-packages (from google-cloud-storage->gcsfs<2023.0.0,>=2022.5.0->nannyml) (2.4.0)\n",
            "Requirement already satisfied: jmespath<2.0.0,>=0.7.1 in /usr/local/lib/python3.8/dist-packages (from botocore<1.27.60,>=1.27.59->aiobotocore~=2.4.0->s3fs<2023.0.0,>=2022.8.2->nannyml) (1.0.1)\n",
            "Requirement already satisfied: googleapis-common-protos<2.0dev,>=1.56.2 in /usr/local/lib/python3.8/dist-packages (from google-api-core!=2.0.*,!=2.1.*,!=2.2.*,!=2.3.0,<3.0.0dev,>=1.31.5->google-cloud-storage->gcsfs<2023.0.0,>=2022.5.0->nannyml) (1.58.0)\n",
            "Requirement already satisfied: protobuf!=3.20.0,!=3.20.1,!=4.21.0,!=4.21.1,!=4.21.2,!=4.21.3,!=4.21.4,!=4.21.5,<5.0.0dev,>=3.19.5 in /usr/local/lib/python3.8/dist-packages (from google-api-core!=2.0.*,!=2.1.*,!=2.2.*,!=2.3.0,<3.0.0dev,>=1.31.5->google-cloud-storage->gcsfs<2023.0.0,>=2022.5.0->nannyml) (3.19.6)\n",
            "Requirement already satisfied: google-crc32c<2.0dev,>=1.0 in /usr/local/lib/python3.8/dist-packages (from google-resumable-media>=2.3.2->google-cloud-storage->gcsfs<2023.0.0,>=2022.5.0->nannyml) (1.5.0)\n",
            "Requirement already satisfied: pyasn1<0.5.0,>=0.4.6 in /usr/local/lib/python3.8/dist-packages (from pyasn1-modules>=0.2.1->google-auth>=1.2->gcsfs<2023.0.0,>=2022.5.0->nannyml) (0.4.8)\n",
            "Requirement already satisfied: oauthlib>=3.0.0 in /usr/local/lib/python3.8/dist-packages (from requests-oauthlib>=0.7.0->google-auth-oauthlib->gcsfs<2023.0.0,>=2022.5.0->nannyml) (3.2.2)\n",
            "Requirement already satisfied: tzdata in /usr/local/lib/python3.8/dist-packages (from pytz-deprecation-shim->tzlocal!=3.*,>=2.0->APScheduler<4.0.0,>=3.9.1->nannyml) (2022.7)\n",
            "Installing collected packages: matplotlib\n",
            "  Attempting uninstall: matplotlib\n",
            "    Found existing installation: matplotlib 3.1.3\n",
            "    Uninstalling matplotlib-3.1.3:\n",
            "      Successfully uninstalled matplotlib-3.1.3\n",
            "Successfully installed matplotlib-3.6.3\n"
          ]
        },
        {
          "output_type": "display_data",
          "data": {
            "application/vnd.colab-display-data+json": {
              "pip_warning": {
                "packages": [
                  "matplotlib",
                  "mpl_toolkits"
                ]
              }
            }
          },
          "metadata": {}
        },
        {
          "output_type": "stream",
          "name": "stdout",
          "text": [
            "Looking in indexes: https://pypi.org/simple, https://us-python.pkg.dev/colab-wheels/public/simple/\n",
            "Collecting matplotlib==3.1.3\n",
            "  Using cached matplotlib-3.1.3-cp38-cp38-manylinux1_x86_64.whl (13.1 MB)\n",
            "Requirement already satisfied: numpy>=1.11 in /usr/local/lib/python3.8/dist-packages (from matplotlib==3.1.3) (1.21.6)\n",
            "Requirement already satisfied: python-dateutil>=2.1 in /usr/local/lib/python3.8/dist-packages (from matplotlib==3.1.3) (2.8.2)\n",
            "Requirement already satisfied: kiwisolver>=1.0.1 in /usr/local/lib/python3.8/dist-packages (from matplotlib==3.1.3) (1.4.4)\n",
            "Requirement already satisfied: cycler>=0.10 in /usr/local/lib/python3.8/dist-packages (from matplotlib==3.1.3) (0.11.0)\n",
            "Requirement already satisfied: pyparsing!=2.0.4,!=2.1.2,!=2.1.6,>=2.0.1 in /usr/local/lib/python3.8/dist-packages (from matplotlib==3.1.3) (3.0.9)\n",
            "Requirement already satisfied: six>=1.5 in /usr/local/lib/python3.8/dist-packages (from python-dateutil>=2.1->matplotlib==3.1.3) (1.15.0)\n",
            "Installing collected packages: matplotlib\n",
            "  Attempting uninstall: matplotlib\n",
            "    Found existing installation: matplotlib 3.6.3\n",
            "    Uninstalling matplotlib-3.6.3:\n",
            "      Successfully uninstalled matplotlib-3.6.3\n",
            "\u001b[31mERROR: pip's dependency resolver does not currently take into account all the packages that are installed. This behaviour is the source of the following dependency conflicts.\n",
            "nannyml 0.8.2 requires matplotlib<4.0.0,>=3.5.1, but you have matplotlib 3.1.3 which is incompatible.\u001b[0m\u001b[31m\n",
            "\u001b[0mSuccessfully installed matplotlib-3.1.3\n"
          ]
        }
      ]
    },
    {
      "cell_type": "code",
      "source": [
        "# imports\n",
        "\n",
        "# NannyML for CBPE\n",
        "import nannyml as nml\n",
        "from IPython.display import display\n",
        "\n",
        "# General libraries\n",
        "import numpy as np \n",
        "import pandas as pd \n",
        "import tensorflow as tf\n",
        "import matplotlib.pyplot as plt\n",
        "import time\n",
        "import datetime\n",
        "\n",
        "# Classifier Library\n",
        "from sklearn.ensemble import RandomForestClassifier\n",
        "import collections\n",
        "\n",
        "# Other Libraries\n",
        "from sklearn.model_selection import train_test_split\n",
        "from sklearn.metrics import confusion_matrix, precision_score, recall_score, f1_score, roc_auc_score, accuracy_score, classification_report\n",
        "from collections import Counter\n",
        "import warnings\n",
        "warnings.filterwarnings(\"ignore\")"
      ],
      "metadata": {
        "id": "g1xxIM1hiQ4G"
      },
      "execution_count": 44,
      "outputs": []
    },
    {
      "cell_type": "markdown",
      "source": [
        "###Loading in data and gathering information about the data."
      ],
      "metadata": {
        "id": "vLcnmPzhh-9m"
      }
    },
    {
      "cell_type": "code",
      "source": [
        "#Connect drive files to import data\n",
        "from google.colab import drive\n",
        "drive.mount('/content/drive')"
      ],
      "metadata": {
        "colab": {
          "base_uri": "https://localhost:8080/"
        },
        "id": "sh4-5cF5ingD",
        "outputId": "3bb51ffb-005a-4dea-8dc0-2df4906fd012"
      },
      "execution_count": 45,
      "outputs": [
        {
          "output_type": "stream",
          "name": "stdout",
          "text": [
            "Drive already mounted at /content/drive; to attempt to forcibly remount, call drive.mount(\"/content/drive\", force_remount=True).\n"
          ]
        }
      ]
    },
    {
      "cell_type": "code",
      "execution_count": 46,
      "metadata": {
        "id": "uI1VLjTShz9u",
        "colab": {
          "base_uri": "https://localhost:8080/",
          "height": 206
        },
        "outputId": "d1922b82-e883-42f2-933e-ff9c9e1c1400"
      },
      "outputs": [
        {
          "output_type": "execute_result",
          "data": {
            "text/plain": [
              "   variance  skewness  curtosis  entropy  class\n",
              "0   3.62160    8.6661   -2.8073 -0.44699      0\n",
              "1   4.54590    8.1674   -2.4586 -1.46210      0\n",
              "2   3.86600   -2.6383    1.9242  0.10645      0\n",
              "3   3.45660    9.5228   -4.0112 -3.59440      0\n",
              "4   0.32924   -4.4552    4.5718 -0.98880      0"
            ],
            "text/html": [
              "\n",
              "  <div id=\"df-2562f31c-ff27-4a39-b5c3-44732a0f7134\">\n",
              "    <div class=\"colab-df-container\">\n",
              "      <div>\n",
              "<style scoped>\n",
              "    .dataframe tbody tr th:only-of-type {\n",
              "        vertical-align: middle;\n",
              "    }\n",
              "\n",
              "    .dataframe tbody tr th {\n",
              "        vertical-align: top;\n",
              "    }\n",
              "\n",
              "    .dataframe thead th {\n",
              "        text-align: right;\n",
              "    }\n",
              "</style>\n",
              "<table border=\"1\" class=\"dataframe\">\n",
              "  <thead>\n",
              "    <tr style=\"text-align: right;\">\n",
              "      <th></th>\n",
              "      <th>variance</th>\n",
              "      <th>skewness</th>\n",
              "      <th>curtosis</th>\n",
              "      <th>entropy</th>\n",
              "      <th>class</th>\n",
              "    </tr>\n",
              "  </thead>\n",
              "  <tbody>\n",
              "    <tr>\n",
              "      <th>0</th>\n",
              "      <td>3.62160</td>\n",
              "      <td>8.6661</td>\n",
              "      <td>-2.8073</td>\n",
              "      <td>-0.44699</td>\n",
              "      <td>0</td>\n",
              "    </tr>\n",
              "    <tr>\n",
              "      <th>1</th>\n",
              "      <td>4.54590</td>\n",
              "      <td>8.1674</td>\n",
              "      <td>-2.4586</td>\n",
              "      <td>-1.46210</td>\n",
              "      <td>0</td>\n",
              "    </tr>\n",
              "    <tr>\n",
              "      <th>2</th>\n",
              "      <td>3.86600</td>\n",
              "      <td>-2.6383</td>\n",
              "      <td>1.9242</td>\n",
              "      <td>0.10645</td>\n",
              "      <td>0</td>\n",
              "    </tr>\n",
              "    <tr>\n",
              "      <th>3</th>\n",
              "      <td>3.45660</td>\n",
              "      <td>9.5228</td>\n",
              "      <td>-4.0112</td>\n",
              "      <td>-3.59440</td>\n",
              "      <td>0</td>\n",
              "    </tr>\n",
              "    <tr>\n",
              "      <th>4</th>\n",
              "      <td>0.32924</td>\n",
              "      <td>-4.4552</td>\n",
              "      <td>4.5718</td>\n",
              "      <td>-0.98880</td>\n",
              "      <td>0</td>\n",
              "    </tr>\n",
              "  </tbody>\n",
              "</table>\n",
              "</div>\n",
              "      <button class=\"colab-df-convert\" onclick=\"convertToInteractive('df-2562f31c-ff27-4a39-b5c3-44732a0f7134')\"\n",
              "              title=\"Convert this dataframe to an interactive table.\"\n",
              "              style=\"display:none;\">\n",
              "        \n",
              "  <svg xmlns=\"http://www.w3.org/2000/svg\" height=\"24px\"viewBox=\"0 0 24 24\"\n",
              "       width=\"24px\">\n",
              "    <path d=\"M0 0h24v24H0V0z\" fill=\"none\"/>\n",
              "    <path d=\"M18.56 5.44l.94 2.06.94-2.06 2.06-.94-2.06-.94-.94-2.06-.94 2.06-2.06.94zm-11 1L8.5 8.5l.94-2.06 2.06-.94-2.06-.94L8.5 2.5l-.94 2.06-2.06.94zm10 10l.94 2.06.94-2.06 2.06-.94-2.06-.94-.94-2.06-.94 2.06-2.06.94z\"/><path d=\"M17.41 7.96l-1.37-1.37c-.4-.4-.92-.59-1.43-.59-.52 0-1.04.2-1.43.59L10.3 9.45l-7.72 7.72c-.78.78-.78 2.05 0 2.83L4 21.41c.39.39.9.59 1.41.59.51 0 1.02-.2 1.41-.59l7.78-7.78 2.81-2.81c.8-.78.8-2.07 0-2.86zM5.41 20L4 18.59l7.72-7.72 1.47 1.35L5.41 20z\"/>\n",
              "  </svg>\n",
              "      </button>\n",
              "      \n",
              "  <style>\n",
              "    .colab-df-container {\n",
              "      display:flex;\n",
              "      flex-wrap:wrap;\n",
              "      gap: 12px;\n",
              "    }\n",
              "\n",
              "    .colab-df-convert {\n",
              "      background-color: #E8F0FE;\n",
              "      border: none;\n",
              "      border-radius: 50%;\n",
              "      cursor: pointer;\n",
              "      display: none;\n",
              "      fill: #1967D2;\n",
              "      height: 32px;\n",
              "      padding: 0 0 0 0;\n",
              "      width: 32px;\n",
              "    }\n",
              "\n",
              "    .colab-df-convert:hover {\n",
              "      background-color: #E2EBFA;\n",
              "      box-shadow: 0px 1px 2px rgba(60, 64, 67, 0.3), 0px 1px 3px 1px rgba(60, 64, 67, 0.15);\n",
              "      fill: #174EA6;\n",
              "    }\n",
              "\n",
              "    [theme=dark] .colab-df-convert {\n",
              "      background-color: #3B4455;\n",
              "      fill: #D2E3FC;\n",
              "    }\n",
              "\n",
              "    [theme=dark] .colab-df-convert:hover {\n",
              "      background-color: #434B5C;\n",
              "      box-shadow: 0px 1px 3px 1px rgba(0, 0, 0, 0.15);\n",
              "      filter: drop-shadow(0px 1px 2px rgba(0, 0, 0, 0.3));\n",
              "      fill: #FFFFFF;\n",
              "    }\n",
              "  </style>\n",
              "\n",
              "      <script>\n",
              "        const buttonEl =\n",
              "          document.querySelector('#df-2562f31c-ff27-4a39-b5c3-44732a0f7134 button.colab-df-convert');\n",
              "        buttonEl.style.display =\n",
              "          google.colab.kernel.accessAllowed ? 'block' : 'none';\n",
              "\n",
              "        async function convertToInteractive(key) {\n",
              "          const element = document.querySelector('#df-2562f31c-ff27-4a39-b5c3-44732a0f7134');\n",
              "          const dataTable =\n",
              "            await google.colab.kernel.invokeFunction('convertToInteractive',\n",
              "                                                     [key], {});\n",
              "          if (!dataTable) return;\n",
              "\n",
              "          const docLinkHtml = 'Like what you see? Visit the ' +\n",
              "            '<a target=\"_blank\" href=https://colab.research.google.com/notebooks/data_table.ipynb>data table notebook</a>'\n",
              "            + ' to learn more about interactive tables.';\n",
              "          element.innerHTML = '';\n",
              "          dataTable['output_type'] = 'display_data';\n",
              "          await google.colab.output.renderOutput(dataTable, element);\n",
              "          const docLink = document.createElement('div');\n",
              "          docLink.innerHTML = docLinkHtml;\n",
              "          element.appendChild(docLink);\n",
              "        }\n",
              "      </script>\n",
              "    </div>\n",
              "  </div>\n",
              "  "
            ]
          },
          "metadata": {},
          "execution_count": 46
        }
      ],
      "source": [
        "# Reading in the banknote dataset and checking if it is read in correctly\n",
        "data = pd.read_csv('/content/drive/MyDrive/Research project /data_banknote_authentication.txt', sep=\",\", header=None)\n",
        "data.columns = [\"variance\", \"skewness\", \"curtosis\", \"entropy\",\"class\"]\n",
        "data.head()"
      ]
    },
    {
      "cell_type": "code",
      "source": [
        "#Check the dataset values\n",
        "data.describe()"
      ],
      "metadata": {
        "colab": {
          "base_uri": "https://localhost:8080/",
          "height": 300
        },
        "id": "DuQqi8Apj0TV",
        "outputId": "564622f7-4ba6-42e5-e6f5-a5d928f727bb"
      },
      "execution_count": 47,
      "outputs": [
        {
          "output_type": "execute_result",
          "data": {
            "text/plain": [
              "          variance     skewness     curtosis      entropy        class\n",
              "count  1372.000000  1372.000000  1372.000000  1372.000000  1372.000000\n",
              "mean      0.433735     1.922353     1.397627    -1.191657     0.444606\n",
              "std       2.842763     5.869047     4.310030     2.101013     0.497103\n",
              "min      -7.042100   -13.773100    -5.286100    -8.548200     0.000000\n",
              "25%      -1.773000    -1.708200    -1.574975    -2.413450     0.000000\n",
              "50%       0.496180     2.319650     0.616630    -0.586650     0.000000\n",
              "75%       2.821475     6.814625     3.179250     0.394810     1.000000\n",
              "max       6.824800    12.951600    17.927400     2.449500     1.000000"
            ],
            "text/html": [
              "\n",
              "  <div id=\"df-78ce3f02-c184-4f67-ae32-c95dfec1b4f3\">\n",
              "    <div class=\"colab-df-container\">\n",
              "      <div>\n",
              "<style scoped>\n",
              "    .dataframe tbody tr th:only-of-type {\n",
              "        vertical-align: middle;\n",
              "    }\n",
              "\n",
              "    .dataframe tbody tr th {\n",
              "        vertical-align: top;\n",
              "    }\n",
              "\n",
              "    .dataframe thead th {\n",
              "        text-align: right;\n",
              "    }\n",
              "</style>\n",
              "<table border=\"1\" class=\"dataframe\">\n",
              "  <thead>\n",
              "    <tr style=\"text-align: right;\">\n",
              "      <th></th>\n",
              "      <th>variance</th>\n",
              "      <th>skewness</th>\n",
              "      <th>curtosis</th>\n",
              "      <th>entropy</th>\n",
              "      <th>class</th>\n",
              "    </tr>\n",
              "  </thead>\n",
              "  <tbody>\n",
              "    <tr>\n",
              "      <th>count</th>\n",
              "      <td>1372.000000</td>\n",
              "      <td>1372.000000</td>\n",
              "      <td>1372.000000</td>\n",
              "      <td>1372.000000</td>\n",
              "      <td>1372.000000</td>\n",
              "    </tr>\n",
              "    <tr>\n",
              "      <th>mean</th>\n",
              "      <td>0.433735</td>\n",
              "      <td>1.922353</td>\n",
              "      <td>1.397627</td>\n",
              "      <td>-1.191657</td>\n",
              "      <td>0.444606</td>\n",
              "    </tr>\n",
              "    <tr>\n",
              "      <th>std</th>\n",
              "      <td>2.842763</td>\n",
              "      <td>5.869047</td>\n",
              "      <td>4.310030</td>\n",
              "      <td>2.101013</td>\n",
              "      <td>0.497103</td>\n",
              "    </tr>\n",
              "    <tr>\n",
              "      <th>min</th>\n",
              "      <td>-7.042100</td>\n",
              "      <td>-13.773100</td>\n",
              "      <td>-5.286100</td>\n",
              "      <td>-8.548200</td>\n",
              "      <td>0.000000</td>\n",
              "    </tr>\n",
              "    <tr>\n",
              "      <th>25%</th>\n",
              "      <td>-1.773000</td>\n",
              "      <td>-1.708200</td>\n",
              "      <td>-1.574975</td>\n",
              "      <td>-2.413450</td>\n",
              "      <td>0.000000</td>\n",
              "    </tr>\n",
              "    <tr>\n",
              "      <th>50%</th>\n",
              "      <td>0.496180</td>\n",
              "      <td>2.319650</td>\n",
              "      <td>0.616630</td>\n",
              "      <td>-0.586650</td>\n",
              "      <td>0.000000</td>\n",
              "    </tr>\n",
              "    <tr>\n",
              "      <th>75%</th>\n",
              "      <td>2.821475</td>\n",
              "      <td>6.814625</td>\n",
              "      <td>3.179250</td>\n",
              "      <td>0.394810</td>\n",
              "      <td>1.000000</td>\n",
              "    </tr>\n",
              "    <tr>\n",
              "      <th>max</th>\n",
              "      <td>6.824800</td>\n",
              "      <td>12.951600</td>\n",
              "      <td>17.927400</td>\n",
              "      <td>2.449500</td>\n",
              "      <td>1.000000</td>\n",
              "    </tr>\n",
              "  </tbody>\n",
              "</table>\n",
              "</div>\n",
              "      <button class=\"colab-df-convert\" onclick=\"convertToInteractive('df-78ce3f02-c184-4f67-ae32-c95dfec1b4f3')\"\n",
              "              title=\"Convert this dataframe to an interactive table.\"\n",
              "              style=\"display:none;\">\n",
              "        \n",
              "  <svg xmlns=\"http://www.w3.org/2000/svg\" height=\"24px\"viewBox=\"0 0 24 24\"\n",
              "       width=\"24px\">\n",
              "    <path d=\"M0 0h24v24H0V0z\" fill=\"none\"/>\n",
              "    <path d=\"M18.56 5.44l.94 2.06.94-2.06 2.06-.94-2.06-.94-.94-2.06-.94 2.06-2.06.94zm-11 1L8.5 8.5l.94-2.06 2.06-.94-2.06-.94L8.5 2.5l-.94 2.06-2.06.94zm10 10l.94 2.06.94-2.06 2.06-.94-2.06-.94-.94-2.06-.94 2.06-2.06.94z\"/><path d=\"M17.41 7.96l-1.37-1.37c-.4-.4-.92-.59-1.43-.59-.52 0-1.04.2-1.43.59L10.3 9.45l-7.72 7.72c-.78.78-.78 2.05 0 2.83L4 21.41c.39.39.9.59 1.41.59.51 0 1.02-.2 1.41-.59l7.78-7.78 2.81-2.81c.8-.78.8-2.07 0-2.86zM5.41 20L4 18.59l7.72-7.72 1.47 1.35L5.41 20z\"/>\n",
              "  </svg>\n",
              "      </button>\n",
              "      \n",
              "  <style>\n",
              "    .colab-df-container {\n",
              "      display:flex;\n",
              "      flex-wrap:wrap;\n",
              "      gap: 12px;\n",
              "    }\n",
              "\n",
              "    .colab-df-convert {\n",
              "      background-color: #E8F0FE;\n",
              "      border: none;\n",
              "      border-radius: 50%;\n",
              "      cursor: pointer;\n",
              "      display: none;\n",
              "      fill: #1967D2;\n",
              "      height: 32px;\n",
              "      padding: 0 0 0 0;\n",
              "      width: 32px;\n",
              "    }\n",
              "\n",
              "    .colab-df-convert:hover {\n",
              "      background-color: #E2EBFA;\n",
              "      box-shadow: 0px 1px 2px rgba(60, 64, 67, 0.3), 0px 1px 3px 1px rgba(60, 64, 67, 0.15);\n",
              "      fill: #174EA6;\n",
              "    }\n",
              "\n",
              "    [theme=dark] .colab-df-convert {\n",
              "      background-color: #3B4455;\n",
              "      fill: #D2E3FC;\n",
              "    }\n",
              "\n",
              "    [theme=dark] .colab-df-convert:hover {\n",
              "      background-color: #434B5C;\n",
              "      box-shadow: 0px 1px 3px 1px rgba(0, 0, 0, 0.15);\n",
              "      filter: drop-shadow(0px 1px 2px rgba(0, 0, 0, 0.3));\n",
              "      fill: #FFFFFF;\n",
              "    }\n",
              "  </style>\n",
              "\n",
              "      <script>\n",
              "        const buttonEl =\n",
              "          document.querySelector('#df-78ce3f02-c184-4f67-ae32-c95dfec1b4f3 button.colab-df-convert');\n",
              "        buttonEl.style.display =\n",
              "          google.colab.kernel.accessAllowed ? 'block' : 'none';\n",
              "\n",
              "        async function convertToInteractive(key) {\n",
              "          const element = document.querySelector('#df-78ce3f02-c184-4f67-ae32-c95dfec1b4f3');\n",
              "          const dataTable =\n",
              "            await google.colab.kernel.invokeFunction('convertToInteractive',\n",
              "                                                     [key], {});\n",
              "          if (!dataTable) return;\n",
              "\n",
              "          const docLinkHtml = 'Like what you see? Visit the ' +\n",
              "            '<a target=\"_blank\" href=https://colab.research.google.com/notebooks/data_table.ipynb>data table notebook</a>'\n",
              "            + ' to learn more about interactive tables.';\n",
              "          element.innerHTML = '';\n",
              "          dataTable['output_type'] = 'display_data';\n",
              "          await google.colab.output.renderOutput(dataTable, element);\n",
              "          const docLink = document.createElement('div');\n",
              "          docLink.innerHTML = docLinkHtml;\n",
              "          element.appendChild(docLink);\n",
              "        }\n",
              "      </script>\n",
              "    </div>\n",
              "  </div>\n",
              "  "
            ]
          },
          "metadata": {},
          "execution_count": 47
        }
      ]
    },
    {
      "cell_type": "code",
      "source": [
        "#Check balance of the dataset\n",
        "fraud = data['class'].value_counts()\n",
        "print(\"Real %: \", fraud[1]/len(data)*100)\n",
        "print(\"Fraud %:\", fraud[0]/len(data)*100)"
      ],
      "metadata": {
        "colab": {
          "base_uri": "https://localhost:8080/"
        },
        "id": "ONrWwYG3j-6N",
        "outputId": "f2de5853-47ca-418f-fe40-2ed69ef056e2"
      },
      "execution_count": 48,
      "outputs": [
        {
          "output_type": "stream",
          "name": "stdout",
          "text": [
            "Real %:  44.460641399416915\n",
            "Fraud %: 55.539358600583085\n"
          ]
        }
      ]
    },
    {
      "cell_type": "code",
      "source": [
        "#splitting into X and y\n",
        "X = data.loc[: ,data.columns != \"class\"]\n",
        "y = data[\"class\"]\n",
        "\n",
        "#train - test split\n",
        "X_train, X_test, y_train, y_test = train_test_split(X, y, test_size=0.4, random_state=142)"
      ],
      "metadata": {
        "id": "cRz5ZJ7nlPCy"
      },
      "execution_count": 49,
      "outputs": []
    },
    {
      "cell_type": "code",
      "source": [
        "# Get production data/ ground truth data ready and add ID column  \n",
        "production_data = X_test.copy()\n",
        "production_data['id'] = range(1, len(production_data) + 1)\n",
        "\n",
        "ground_truth = X_test.copy()\n",
        "ground_truth['class'] = y_test\n",
        "ground_truth['id'] = range(1, len(ground_truth) + 1)"
      ],
      "metadata": {
        "id": "_cHsDcP-QulB"
      },
      "execution_count": 50,
      "outputs": []
    },
    {
      "cell_type": "markdown",
      "source": [
        "### Training the model"
      ],
      "metadata": {
        "id": "3NmH9JMnkebM"
      }
    },
    {
      "cell_type": "code",
      "source": [
        "#training the Random Forest Classifier\n",
        "rfc = RandomForestClassifier()\n",
        "rfc.fit(X_train, y_train)\n",
        "print(\"Train Score: \", rfc.score(X_train, y_train))"
      ],
      "metadata": {
        "colab": {
          "base_uri": "https://localhost:8080/"
        },
        "id": "6J-ju2iBldgH",
        "outputId": "8bd2aabb-1117-4f1d-9152-2ce52bcc9da4"
      },
      "execution_count": 51,
      "outputs": [
        {
          "output_type": "stream",
          "name": "stdout",
          "text": [
            "Train Score:  1.0\n"
          ]
        }
      ]
    },
    {
      "cell_type": "code",
      "source": [
        "#training the Random Forest Classifier\n",
        "rfc3 = RandomForestClassifier(max_depth = 3)\n",
        "rfc3.fit(X_train, y_train)\n",
        "print(\"Train Score: \", rfc3.score(X_train, y_train))"
      ],
      "metadata": {
        "colab": {
          "base_uri": "https://localhost:8080/"
        },
        "id": "1_WqGJstfzgN",
        "outputId": "778fc828-b190-4ddf-cb4c-9168f53c0606"
      },
      "execution_count": 52,
      "outputs": [
        {
          "output_type": "stream",
          "name": "stdout",
          "text": [
            "Train Score:  0.9635479951397327\n"
          ]
        }
      ]
    },
    {
      "cell_type": "code",
      "source": [
        "#training the Random Forest Classifier\n",
        "rfc1 = RandomForestClassifier(max_depth=1)\n",
        "rfc1.fit(X_train, y_train)\n",
        "print(\"Train Score: \", rfc1.score(X_train, y_train))"
      ],
      "metadata": {
        "colab": {
          "base_uri": "https://localhost:8080/"
        },
        "id": "nj5pBRNhf_Ta",
        "outputId": "ba0dc031-1d44-46a0-d983-a5bc5106eb5e"
      },
      "execution_count": 53,
      "outputs": [
        {
          "output_type": "stream",
          "name": "stdout",
          "text": [
            "Train Score:  0.8590522478736331\n"
          ]
        }
      ]
    },
    {
      "cell_type": "markdown",
      "source": [
        "### Functions needed for the algorithms to be tested."
      ],
      "metadata": {
        "id": "jlW8AbtlUAj_"
      }
    },
    {
      "cell_type": "code",
      "source": [
        "# Calculate what the start and end time of the test will be based on the number\n",
        "# of datapoints in the test dataset.\n",
        "def running_time(n_datapoints):\n",
        "\n",
        "  # one point every 10 minutes\n",
        "  time_needed = (n_datapoints * 10)/60\n",
        "  start_time = datetime.datetime.now() - datetime.timedelta(hours=time_needed)\n",
        "  \n",
        "  return start_time"
      ],
      "metadata": {
        "id": "02Ht1AIciWzr"
      },
      "execution_count": 54,
      "outputs": []
    },
    {
      "cell_type": "code",
      "source": [
        "# Get an array of 0 and 1, where 0 is sending a datapoint and 1 sending \n",
        "# the ground truth.\n",
        "\n",
        "# send_gt: Every send_gt'th datapoint will be a ground truth \n",
        "# start_gt: The first ground truth will arrive from the start_gt'th datapoint\n",
        "def get_send_distribution(send_gt,start_gt):\n",
        "  \n",
        "  distribution = [0]*start_gt\n",
        "  datapoint_nr = start_gt\n",
        "\n",
        "  for i in range(len(X_test)*2-start_gt):\n",
        "    if i%send_gt == 0:\n",
        "      distribution.append(1)\n",
        "    elif datapoint_nr <= len(X_test)-1:\n",
        "      distribution.append(0)\n",
        "      datapoint_nr+=1\n",
        "    else:\n",
        "      distribution.append(1)\n",
        "\n",
        "  return distribution"
      ],
      "metadata": {
        "id": "ByPpQahLXI-c"
      },
      "execution_count": 55,
      "outputs": []
    },
    {
      "cell_type": "markdown",
      "source": [
        "## CBPE"
      ],
      "metadata": {
        "id": "m3egCs5mmOOJ"
      }
    },
    {
      "cell_type": "markdown",
      "source": [
        "##### Functions"
      ],
      "metadata": {
        "id": "xKWGmH7oUNPp"
      }
    },
    {
      "cell_type": "code",
      "source": [
        "# Using the CBPE algorithm by NannyML according to their tutorial: \n",
        "#https://nannyml.readthedocs.io/en/stable/tutorials/performance_estimation/binary_performance_estimation.html\n",
        "def use_CBPE(reference_df,analysis_df, k): \n",
        "  \n",
        "  estimator = nml.CBPE(\n",
        "      y_pred_proba='predict_proba',\n",
        "      y_pred='y_hat',\n",
        "      y_true='class',\n",
        "      timestamp_column_name='timestamp',\n",
        "      metrics=['roc_auc', 'f1', 'precision', 'recall', 'accuracy','specificity'],\n",
        "      chunk_size=k,\n",
        "      problem_type='classification_binary',\n",
        "  )\n",
        "\n",
        "  estimator.fit(reference_df)\n",
        "  \n",
        "  results = estimator.estimate(analysis_df)\n",
        "  display(results.filter(period='analysis').to_df())\n",
        "  \n",
        "  #return both the estimator itself as the df of the results\n",
        "  return estimator, results.filter(period='analysis').to_df()\n"
      ],
      "metadata": {
        "id": "Dq-wubQUAGjR"
      },
      "execution_count": 56,
      "outputs": []
    },
    {
      "cell_type": "markdown",
      "source": [
        "##### Transforming the Data"
      ],
      "metadata": {
        "id": "FHbHFUClU_sp"
      }
    },
    {
      "cell_type": "code",
      "source": [
        "# Paremeters\n",
        "REF_ANA_SPLIT = 50\n",
        "CHUNK = 50"
      ],
      "metadata": {
        "id": "dmYiKI5jWI43"
      },
      "execution_count": 90,
      "outputs": []
    },
    {
      "cell_type": "code",
      "source": [
        "# Copy of the data for safekeeping\n",
        "CBPE_data = X_test.copy()\n",
        "CBPE_data['class'] = y_test\n",
        "\n",
        "# Two copies as from production_data rows will be dropped\n",
        "CBPE_production_data = production_data.copy() \n",
        "CBPE_prod = CBPE_production_data.copy()\n",
        "\n",
        "CBPE_ground_truth = ground_truth.copy()\n",
        "CBPE_gt = CBPE_ground_truth.copy()"
      ],
      "metadata": {
        "id": "07MsQYmyaH-h"
      },
      "execution_count": 91,
      "outputs": []
    },
    {
      "cell_type": "markdown",
      "source": [
        "##### Testing *CBPE*"
      ],
      "metadata": {
        "id": "xMJHUCIUUVls"
      }
    },
    {
      "cell_type": "code",
      "source": [
        "# Get the distribution that determines which datapoint gets send\n",
        "CBPE_send_dist = get_send_distribution(send_gt = 20, start_gt = 50)\n",
        "\n",
        "# defining the start and end time. \n",
        "start_time = running_time(len(X_test))\n",
        "elapsed = 0\n",
        "\n",
        "#Dataframes that will save the predictions and timestamps. \n",
        "reference_predictions = pd.DataFrame(columns=['y_hat','predict_proba','timestamp' ,'id'])\n",
        "analysis_predictions = pd.DataFrame(columns=['y_hat','predict_proba','timestamp','id'])\n",
        "ground_truth_time = pd.DataFrame(columns=['timestamp','id'])\n",
        "\n",
        "for idx, i in enumerate(CBPE_send_dist):\n",
        "  # Artificial time of the datapoint\n",
        "  date_time = start_time + datetime.timedelta(minutes=elapsed)\n",
        "  elapsed +=5\n",
        "  # if 0, then a datapoint arrived\n",
        "  \n",
        "  if i == 0:\n",
        "    # get datapoint\n",
        "    x = CBPE_production_data.head(1)\n",
        "    CBPE_production_data = CBPE_production_data.tail(-1)\n",
        "    x_id = str(x['id'].iloc[0])\n",
        "    datapoint = x.drop('id',axis=1)\n",
        "    \n",
        "    # get prediction\n",
        "    y_hat = rfc1.predict(datapoint)\n",
        "    probability = rfc1.predict_proba(datapoint)\n",
        "\n",
        "    new_row= pd.DataFrame({'y_hat': y_hat,'predict_proba': probability[0][1], 'timestamp': date_time,'id': x_id})\n",
        "    if idx < REF_ANA_SPLIT:\n",
        "      reference_predictions = pd.concat([new_row, reference_predictions.loc[:]]).reset_index(drop=True)\n",
        "    else: analysis_predictions = pd.concat([new_row, analysis_predictions.loc[:]]).reset_index(drop=True)\n",
        "  \n",
        "  # if 1, then the ground truth arrived\n",
        "  if i == 1:\n",
        "    # get ground truth\n",
        "    y = CBPE_ground_truth.head(1)\n",
        "    CBPE_ground_truth = CBPE_ground_truth.tail(-1)\n",
        "    y_id = str(y['id'].iloc[0])\n",
        "\n",
        "    new_row= pd.DataFrame.from_records([{'timestamp': date_time, 'id': y_id}])\n",
        "    ground_truth_time = pd.concat([new_row, ground_truth_time.loc[:]]).reset_index(drop=True)\n"
      ],
      "metadata": {
        "id": "MACxrwk5S9q0"
      },
      "execution_count": 92,
      "outputs": []
    },
    {
      "cell_type": "code",
      "source": [
        "# Creating the reference dataset for the CBPE algorithm\n",
        "reference_predictions['id']= reference_predictions['id'].astype(int)\n",
        "reference_df = pd.merge(reference_predictions, CBPE_prod , on = 'id', how=\"inner\")\n",
        "f = CBPE_gt[['id','class']]\n",
        "reference_df = pd.merge(reference_df, f , on = 'id', how=\"inner\")\n",
        "reference_df['y_hat'] = reference_df['y_hat'].astype(int)\n",
        "\n",
        "# Creating the analysis dataset for the CBPE algorithm\n",
        "analysis_predictions['id']= analysis_predictions['id'].astype(int)\n",
        "analysis_df = pd.merge(analysis_predictions, CBPE_prod , on = 'id', how=\"inner\")\n",
        "analysis_df['y_hat'] = analysis_df['y_hat'].astype(int)"
      ],
      "metadata": {
        "id": "GAkd2rcge-LR"
      },
      "execution_count": 93,
      "outputs": []
    },
    {
      "cell_type": "code",
      "source": [
        "# Run the CBPE algorithm and check initial results\n",
        "cbpe, CBPE_results = use_CBPE(reference_df, analysis_df, CHUNK)"
      ],
      "metadata": {
        "colab": {
          "base_uri": "https://localhost:8080/",
          "height": 612
        },
        "id": "Et7lE0AdTR9z",
        "outputId": "8c4aaae1-127e-4b92-ab24-4fc9bfa933ec"
      },
      "execution_count": 94,
      "outputs": [
        {
          "output_type": "display_data",
          "data": {
            "text/plain": [
              "       chunk                                                               \\\n",
              "         key chunk_index start_index end_index                 start_date   \n",
              "0     [0:49]           0           0        49 2023-01-23 09:12:29.232478   \n",
              "1    [50:99]           1          50        99 2023-01-23 13:32:29.232478   \n",
              "2  [100:149]           2         100       149 2023-01-23 17:57:29.232478   \n",
              "3  [150:199]           3         150       199 2023-01-23 22:17:29.232478   \n",
              "4  [200:249]           4         200       249 2023-01-24 02:42:29.232478   \n",
              "5  [250:299]           5         250       299 2023-01-24 07:07:29.232478   \n",
              "6  [300:349]           6         300       349 2023-01-24 11:27:29.232478   \n",
              "7  [350:399]           7         350       399 2023-01-24 15:52:29.232478   \n",
              "8  [400:498]           8         400       498 2023-01-24 20:17:29.232478   \n",
              "\n",
              "                                              roc_auc                     ...  \\\n",
              "                    end_date    period sampling_error realized     value  ...   \n",
              "0 2023-01-23 13:27:29.232478  analysis       0.033275      NaN  0.876683  ...   \n",
              "1 2023-01-23 17:52:29.232478  analysis       0.033275      NaN  0.902578  ...   \n",
              "2 2023-01-23 22:12:29.232478  analysis       0.033275      NaN  0.898287  ...   \n",
              "3 2023-01-24 02:37:29.232478  analysis       0.033275      NaN  0.873042  ...   \n",
              "4 2023-01-24 07:02:29.232478  analysis       0.033275      NaN  0.904739  ...   \n",
              "5 2023-01-24 11:22:29.232478  analysis       0.033275      NaN  0.867028  ...   \n",
              "6 2023-01-24 15:47:29.232478  analysis       0.033275      NaN  0.881384  ...   \n",
              "7 2023-01-24 20:12:29.232478  analysis       0.033275      NaN  0.861810  ...   \n",
              "8 2023-01-25 04:52:29.232478  analysis       0.023648      NaN  0.905525  ...   \n",
              "\n",
              "         accuracy          specificity                     \\\n",
              "  lower_threshold alert sampling_error realized     value   \n",
              "0             0.8  True       0.071165      NaN  0.707726   \n",
              "1             0.8  True       0.071165      NaN  0.782355   \n",
              "2             0.8  True       0.071165      NaN  0.821157   \n",
              "3             0.8  True       0.071165      NaN  0.680833   \n",
              "4             0.8  True       0.071165      NaN  0.806450   \n",
              "5             0.8  True       0.071165      NaN  0.655777   \n",
              "6             0.8  True       0.071165      NaN  0.868098   \n",
              "7             0.8  True       0.071165      NaN  0.753624   \n",
              "8             0.8  True       0.050575      NaN  0.779740   \n",
              "\n",
              "                                                                       \\\n",
              "  upper_confidence_boundary lower_confidence_boundary upper_threshold   \n",
              "0                  0.921220                  0.494232        0.823529   \n",
              "1                  0.995849                  0.568860        0.823529   \n",
              "2                  1.000000                  0.607662        0.823529   \n",
              "3                  0.894327                  0.467339        0.823529   \n",
              "4                  1.000000                  0.592955        0.823529   \n",
              "5                  0.869272                  0.442283        0.823529   \n",
              "6                  1.000000                  0.654604        0.823529   \n",
              "7                  0.967118                  0.540130        0.823529   \n",
              "8                  0.931464                  0.628016        0.823529   \n",
              "\n",
              "                         \n",
              "  lower_threshold alert  \n",
              "0        0.823529  True  \n",
              "1        0.823529  True  \n",
              "2        0.823529  True  \n",
              "3        0.823529  True  \n",
              "4        0.823529  True  \n",
              "5        0.823529  True  \n",
              "6        0.823529  True  \n",
              "7        0.823529  True  \n",
              "8        0.823529  True  \n",
              "\n",
              "[9 rows x 55 columns]"
            ],
            "text/html": [
              "\n",
              "  <div id=\"df-1875f87d-9598-4fa1-8cba-9a0f06098b18\">\n",
              "    <div class=\"colab-df-container\">\n",
              "      <div>\n",
              "<style scoped>\n",
              "    .dataframe tbody tr th:only-of-type {\n",
              "        vertical-align: middle;\n",
              "    }\n",
              "\n",
              "    .dataframe tbody tr th {\n",
              "        vertical-align: top;\n",
              "    }\n",
              "\n",
              "    .dataframe thead tr th {\n",
              "        text-align: left;\n",
              "    }\n",
              "</style>\n",
              "<table border=\"1\" class=\"dataframe\">\n",
              "  <thead>\n",
              "    <tr>\n",
              "      <th></th>\n",
              "      <th colspan=\"7\" halign=\"left\">chunk</th>\n",
              "      <th colspan=\"3\" halign=\"left\">roc_auc</th>\n",
              "      <th>...</th>\n",
              "      <th colspan=\"2\" halign=\"left\">accuracy</th>\n",
              "      <th colspan=\"8\" halign=\"left\">specificity</th>\n",
              "    </tr>\n",
              "    <tr>\n",
              "      <th></th>\n",
              "      <th>key</th>\n",
              "      <th>chunk_index</th>\n",
              "      <th>start_index</th>\n",
              "      <th>end_index</th>\n",
              "      <th>start_date</th>\n",
              "      <th>end_date</th>\n",
              "      <th>period</th>\n",
              "      <th>sampling_error</th>\n",
              "      <th>realized</th>\n",
              "      <th>value</th>\n",
              "      <th>...</th>\n",
              "      <th>lower_threshold</th>\n",
              "      <th>alert</th>\n",
              "      <th>sampling_error</th>\n",
              "      <th>realized</th>\n",
              "      <th>value</th>\n",
              "      <th>upper_confidence_boundary</th>\n",
              "      <th>lower_confidence_boundary</th>\n",
              "      <th>upper_threshold</th>\n",
              "      <th>lower_threshold</th>\n",
              "      <th>alert</th>\n",
              "    </tr>\n",
              "  </thead>\n",
              "  <tbody>\n",
              "    <tr>\n",
              "      <th>0</th>\n",
              "      <td>[0:49]</td>\n",
              "      <td>0</td>\n",
              "      <td>0</td>\n",
              "      <td>49</td>\n",
              "      <td>2023-01-23 09:12:29.232478</td>\n",
              "      <td>2023-01-23 13:27:29.232478</td>\n",
              "      <td>analysis</td>\n",
              "      <td>0.033275</td>\n",
              "      <td>NaN</td>\n",
              "      <td>0.876683</td>\n",
              "      <td>...</td>\n",
              "      <td>0.8</td>\n",
              "      <td>True</td>\n",
              "      <td>0.071165</td>\n",
              "      <td>NaN</td>\n",
              "      <td>0.707726</td>\n",
              "      <td>0.921220</td>\n",
              "      <td>0.494232</td>\n",
              "      <td>0.823529</td>\n",
              "      <td>0.823529</td>\n",
              "      <td>True</td>\n",
              "    </tr>\n",
              "    <tr>\n",
              "      <th>1</th>\n",
              "      <td>[50:99]</td>\n",
              "      <td>1</td>\n",
              "      <td>50</td>\n",
              "      <td>99</td>\n",
              "      <td>2023-01-23 13:32:29.232478</td>\n",
              "      <td>2023-01-23 17:52:29.232478</td>\n",
              "      <td>analysis</td>\n",
              "      <td>0.033275</td>\n",
              "      <td>NaN</td>\n",
              "      <td>0.902578</td>\n",
              "      <td>...</td>\n",
              "      <td>0.8</td>\n",
              "      <td>True</td>\n",
              "      <td>0.071165</td>\n",
              "      <td>NaN</td>\n",
              "      <td>0.782355</td>\n",
              "      <td>0.995849</td>\n",
              "      <td>0.568860</td>\n",
              "      <td>0.823529</td>\n",
              "      <td>0.823529</td>\n",
              "      <td>True</td>\n",
              "    </tr>\n",
              "    <tr>\n",
              "      <th>2</th>\n",
              "      <td>[100:149]</td>\n",
              "      <td>2</td>\n",
              "      <td>100</td>\n",
              "      <td>149</td>\n",
              "      <td>2023-01-23 17:57:29.232478</td>\n",
              "      <td>2023-01-23 22:12:29.232478</td>\n",
              "      <td>analysis</td>\n",
              "      <td>0.033275</td>\n",
              "      <td>NaN</td>\n",
              "      <td>0.898287</td>\n",
              "      <td>...</td>\n",
              "      <td>0.8</td>\n",
              "      <td>True</td>\n",
              "      <td>0.071165</td>\n",
              "      <td>NaN</td>\n",
              "      <td>0.821157</td>\n",
              "      <td>1.000000</td>\n",
              "      <td>0.607662</td>\n",
              "      <td>0.823529</td>\n",
              "      <td>0.823529</td>\n",
              "      <td>True</td>\n",
              "    </tr>\n",
              "    <tr>\n",
              "      <th>3</th>\n",
              "      <td>[150:199]</td>\n",
              "      <td>3</td>\n",
              "      <td>150</td>\n",
              "      <td>199</td>\n",
              "      <td>2023-01-23 22:17:29.232478</td>\n",
              "      <td>2023-01-24 02:37:29.232478</td>\n",
              "      <td>analysis</td>\n",
              "      <td>0.033275</td>\n",
              "      <td>NaN</td>\n",
              "      <td>0.873042</td>\n",
              "      <td>...</td>\n",
              "      <td>0.8</td>\n",
              "      <td>True</td>\n",
              "      <td>0.071165</td>\n",
              "      <td>NaN</td>\n",
              "      <td>0.680833</td>\n",
              "      <td>0.894327</td>\n",
              "      <td>0.467339</td>\n",
              "      <td>0.823529</td>\n",
              "      <td>0.823529</td>\n",
              "      <td>True</td>\n",
              "    </tr>\n",
              "    <tr>\n",
              "      <th>4</th>\n",
              "      <td>[200:249]</td>\n",
              "      <td>4</td>\n",
              "      <td>200</td>\n",
              "      <td>249</td>\n",
              "      <td>2023-01-24 02:42:29.232478</td>\n",
              "      <td>2023-01-24 07:02:29.232478</td>\n",
              "      <td>analysis</td>\n",
              "      <td>0.033275</td>\n",
              "      <td>NaN</td>\n",
              "      <td>0.904739</td>\n",
              "      <td>...</td>\n",
              "      <td>0.8</td>\n",
              "      <td>True</td>\n",
              "      <td>0.071165</td>\n",
              "      <td>NaN</td>\n",
              "      <td>0.806450</td>\n",
              "      <td>1.000000</td>\n",
              "      <td>0.592955</td>\n",
              "      <td>0.823529</td>\n",
              "      <td>0.823529</td>\n",
              "      <td>True</td>\n",
              "    </tr>\n",
              "    <tr>\n",
              "      <th>5</th>\n",
              "      <td>[250:299]</td>\n",
              "      <td>5</td>\n",
              "      <td>250</td>\n",
              "      <td>299</td>\n",
              "      <td>2023-01-24 07:07:29.232478</td>\n",
              "      <td>2023-01-24 11:22:29.232478</td>\n",
              "      <td>analysis</td>\n",
              "      <td>0.033275</td>\n",
              "      <td>NaN</td>\n",
              "      <td>0.867028</td>\n",
              "      <td>...</td>\n",
              "      <td>0.8</td>\n",
              "      <td>True</td>\n",
              "      <td>0.071165</td>\n",
              "      <td>NaN</td>\n",
              "      <td>0.655777</td>\n",
              "      <td>0.869272</td>\n",
              "      <td>0.442283</td>\n",
              "      <td>0.823529</td>\n",
              "      <td>0.823529</td>\n",
              "      <td>True</td>\n",
              "    </tr>\n",
              "    <tr>\n",
              "      <th>6</th>\n",
              "      <td>[300:349]</td>\n",
              "      <td>6</td>\n",
              "      <td>300</td>\n",
              "      <td>349</td>\n",
              "      <td>2023-01-24 11:27:29.232478</td>\n",
              "      <td>2023-01-24 15:47:29.232478</td>\n",
              "      <td>analysis</td>\n",
              "      <td>0.033275</td>\n",
              "      <td>NaN</td>\n",
              "      <td>0.881384</td>\n",
              "      <td>...</td>\n",
              "      <td>0.8</td>\n",
              "      <td>True</td>\n",
              "      <td>0.071165</td>\n",
              "      <td>NaN</td>\n",
              "      <td>0.868098</td>\n",
              "      <td>1.000000</td>\n",
              "      <td>0.654604</td>\n",
              "      <td>0.823529</td>\n",
              "      <td>0.823529</td>\n",
              "      <td>True</td>\n",
              "    </tr>\n",
              "    <tr>\n",
              "      <th>7</th>\n",
              "      <td>[350:399]</td>\n",
              "      <td>7</td>\n",
              "      <td>350</td>\n",
              "      <td>399</td>\n",
              "      <td>2023-01-24 15:52:29.232478</td>\n",
              "      <td>2023-01-24 20:12:29.232478</td>\n",
              "      <td>analysis</td>\n",
              "      <td>0.033275</td>\n",
              "      <td>NaN</td>\n",
              "      <td>0.861810</td>\n",
              "      <td>...</td>\n",
              "      <td>0.8</td>\n",
              "      <td>True</td>\n",
              "      <td>0.071165</td>\n",
              "      <td>NaN</td>\n",
              "      <td>0.753624</td>\n",
              "      <td>0.967118</td>\n",
              "      <td>0.540130</td>\n",
              "      <td>0.823529</td>\n",
              "      <td>0.823529</td>\n",
              "      <td>True</td>\n",
              "    </tr>\n",
              "    <tr>\n",
              "      <th>8</th>\n",
              "      <td>[400:498]</td>\n",
              "      <td>8</td>\n",
              "      <td>400</td>\n",
              "      <td>498</td>\n",
              "      <td>2023-01-24 20:17:29.232478</td>\n",
              "      <td>2023-01-25 04:52:29.232478</td>\n",
              "      <td>analysis</td>\n",
              "      <td>0.023648</td>\n",
              "      <td>NaN</td>\n",
              "      <td>0.905525</td>\n",
              "      <td>...</td>\n",
              "      <td>0.8</td>\n",
              "      <td>True</td>\n",
              "      <td>0.050575</td>\n",
              "      <td>NaN</td>\n",
              "      <td>0.779740</td>\n",
              "      <td>0.931464</td>\n",
              "      <td>0.628016</td>\n",
              "      <td>0.823529</td>\n",
              "      <td>0.823529</td>\n",
              "      <td>True</td>\n",
              "    </tr>\n",
              "  </tbody>\n",
              "</table>\n",
              "<p>9 rows × 55 columns</p>\n",
              "</div>\n",
              "      <button class=\"colab-df-convert\" onclick=\"convertToInteractive('df-1875f87d-9598-4fa1-8cba-9a0f06098b18')\"\n",
              "              title=\"Convert this dataframe to an interactive table.\"\n",
              "              style=\"display:none;\">\n",
              "        \n",
              "  <svg xmlns=\"http://www.w3.org/2000/svg\" height=\"24px\"viewBox=\"0 0 24 24\"\n",
              "       width=\"24px\">\n",
              "    <path d=\"M0 0h24v24H0V0z\" fill=\"none\"/>\n",
              "    <path d=\"M18.56 5.44l.94 2.06.94-2.06 2.06-.94-2.06-.94-.94-2.06-.94 2.06-2.06.94zm-11 1L8.5 8.5l.94-2.06 2.06-.94-2.06-.94L8.5 2.5l-.94 2.06-2.06.94zm10 10l.94 2.06.94-2.06 2.06-.94-2.06-.94-.94-2.06-.94 2.06-2.06.94z\"/><path d=\"M17.41 7.96l-1.37-1.37c-.4-.4-.92-.59-1.43-.59-.52 0-1.04.2-1.43.59L10.3 9.45l-7.72 7.72c-.78.78-.78 2.05 0 2.83L4 21.41c.39.39.9.59 1.41.59.51 0 1.02-.2 1.41-.59l7.78-7.78 2.81-2.81c.8-.78.8-2.07 0-2.86zM5.41 20L4 18.59l7.72-7.72 1.47 1.35L5.41 20z\"/>\n",
              "  </svg>\n",
              "      </button>\n",
              "      \n",
              "  <style>\n",
              "    .colab-df-container {\n",
              "      display:flex;\n",
              "      flex-wrap:wrap;\n",
              "      gap: 12px;\n",
              "    }\n",
              "\n",
              "    .colab-df-convert {\n",
              "      background-color: #E8F0FE;\n",
              "      border: none;\n",
              "      border-radius: 50%;\n",
              "      cursor: pointer;\n",
              "      display: none;\n",
              "      fill: #1967D2;\n",
              "      height: 32px;\n",
              "      padding: 0 0 0 0;\n",
              "      width: 32px;\n",
              "    }\n",
              "\n",
              "    .colab-df-convert:hover {\n",
              "      background-color: #E2EBFA;\n",
              "      box-shadow: 0px 1px 2px rgba(60, 64, 67, 0.3), 0px 1px 3px 1px rgba(60, 64, 67, 0.15);\n",
              "      fill: #174EA6;\n",
              "    }\n",
              "\n",
              "    [theme=dark] .colab-df-convert {\n",
              "      background-color: #3B4455;\n",
              "      fill: #D2E3FC;\n",
              "    }\n",
              "\n",
              "    [theme=dark] .colab-df-convert:hover {\n",
              "      background-color: #434B5C;\n",
              "      box-shadow: 0px 1px 3px 1px rgba(0, 0, 0, 0.15);\n",
              "      filter: drop-shadow(0px 1px 2px rgba(0, 0, 0, 0.3));\n",
              "      fill: #FFFFFF;\n",
              "    }\n",
              "  </style>\n",
              "\n",
              "      <script>\n",
              "        const buttonEl =\n",
              "          document.querySelector('#df-1875f87d-9598-4fa1-8cba-9a0f06098b18 button.colab-df-convert');\n",
              "        buttonEl.style.display =\n",
              "          google.colab.kernel.accessAllowed ? 'block' : 'none';\n",
              "\n",
              "        async function convertToInteractive(key) {\n",
              "          const element = document.querySelector('#df-1875f87d-9598-4fa1-8cba-9a0f06098b18');\n",
              "          const dataTable =\n",
              "            await google.colab.kernel.invokeFunction('convertToInteractive',\n",
              "                                                     [key], {});\n",
              "          if (!dataTable) return;\n",
              "\n",
              "          const docLinkHtml = 'Like what you see? Visit the ' +\n",
              "            '<a target=\"_blank\" href=https://colab.research.google.com/notebooks/data_table.ipynb>data table notebook</a>'\n",
              "            + ' to learn more about interactive tables.';\n",
              "          element.innerHTML = '';\n",
              "          dataTable['output_type'] = 'display_data';\n",
              "          await google.colab.output.renderOutput(dataTable, element);\n",
              "          const docLink = document.createElement('div');\n",
              "          docLink.innerHTML = docLinkHtml;\n",
              "          element.appendChild(docLink);\n",
              "        }\n",
              "      </script>\n",
              "    </div>\n",
              "  </div>\n",
              "  "
            ]
          },
          "metadata": {}
        }
      ]
    },
    {
      "cell_type": "markdown",
      "source": [
        "##### Evaluation of CBPE"
      ],
      "metadata": {
        "id": "p0_kXcma5Z4X"
      }
    },
    {
      "cell_type": "code",
      "source": [
        "#CBPE metrics\n",
        "CBPE_accuracy= CBPE_results['accuracy']['value']\n",
        "CBPE_f1= CBPE_results['f1']['value']\n",
        "CBPE_precision= CBPE_results['precision']['value']\n",
        "CBPE_roc_auc= CBPE_results['roc_auc']['value']\n",
        "CBPE_recall= CBPE_results['recall']['value']\n",
        "CBPE_specificity= CBPE_results['specificity']['value']\n",
        "\n",
        "print(CBPE_accuracy, CBPE_f1,CBPE_precision, CBPE_roc_auc, CBPE_recall, CBPE_specificity)"
      ],
      "metadata": {
        "colab": {
          "base_uri": "https://localhost:8080/"
        },
        "id": "KcsdK7O76hD1",
        "outputId": "613aa6c4-bdf1-4479-9383-d4fcc4f2edb6"
      },
      "execution_count": 95,
      "outputs": [
        {
          "output_type": "stream",
          "name": "stdout",
          "text": [
            "0    0.792006\n",
            "1    0.820113\n",
            "2    0.823055\n",
            "3    0.750597\n",
            "4    0.820538\n",
            "5    0.771063\n",
            "6    0.841396\n",
            "7    0.791914\n",
            "8    0.816802\n",
            "Name: value, dtype: float64 0    0.777169\n",
            "1    0.765432\n",
            "2    0.743640\n",
            "3    0.717360\n",
            "4    0.748601\n",
            "5    0.782159\n",
            "6    0.719088\n",
            "7    0.759462\n",
            "8    0.746471\n",
            "Name: value, dtype: float64 0    0.671687\n",
            "1    0.667045\n",
            "2    0.675361\n",
            "3    0.608654\n",
            "4    0.667991\n",
            "5    0.685000\n",
            "6    0.676667\n",
            "7    0.684375\n",
            "8    0.635714\n",
            "Name: value, dtype: float64 0    0.876683\n",
            "1    0.902578\n",
            "2    0.898287\n",
            "3    0.873042\n",
            "4    0.904739\n",
            "5    0.867028\n",
            "6    0.881384\n",
            "7    0.861810\n",
            "8    0.905525\n",
            "Name: value, dtype: float64 0    0.921953\n",
            "1    0.897864\n",
            "2    0.827276\n",
            "3    0.873338\n",
            "4    0.851338\n",
            "5    0.911436\n",
            "6    0.767184\n",
            "7    0.853056\n",
            "8    0.903962\n",
            "Name: value, dtype: float64 0    0.707726\n",
            "1    0.782355\n",
            "2    0.821157\n",
            "3    0.680833\n",
            "4    0.806450\n",
            "5    0.655777\n",
            "6    0.868098\n",
            "7    0.753624\n",
            "8    0.779740\n",
            "Name: value, dtype: float64\n"
          ]
        }
      ]
    },
    {
      "cell_type": "code",
      "source": [
        "from sklearn.metrics import roc_auc_score\n",
        "import matplotlib.pyplot as plt\n",
        "# add ground truth to analysis\n",
        "analysis_targets = CBPE_gt[['id','class']]\n",
        "analysis_full = pd.merge(analysis_df, analysis_targets, on = 'id')\n",
        "df_all = pd.concat([reference_df, analysis_full]).reset_index(drop=True)\n",
        "#df_all['timestamp'] = pd.to_datetime(df_all['timestamp'])\n",
        "# calculate actual ROC AUC\n",
        "target_col = cbpe.y_true\n",
        "pred_score_col = 'predict_proba'\n",
        "actual_performance = []\n",
        "for idx in CBPE_results.index:\n",
        "    start_date, end_date = CBPE_results.loc[idx, ('chunk', 'start_date')], CBPE_results.loc[idx, ('chunk', 'end_date')]\n",
        "    sub = df_all[df_all['timestamp'].between(start_date, end_date)]\n",
        "    actual_perf = roc_auc_score(sub[target_col], sub[pred_score_col])\n",
        "    CBPE_results.loc[idx, ('roc_auc', 'realized')] = actual_perf\n",
        "# plot\n",
        "first_analysis = CBPE_results[('chunk', 'key')].values[8]\n",
        "plt.figure(figsize=(10,5))\n",
        "plt.plot(CBPE_results[('chunk', 'key')], CBPE_results[('roc_auc', 'value')], label='estimated AUC')\n",
        "plt.plot(CBPE_results[('chunk', 'key')], CBPE_results[('roc_auc', 'realized')], label='actual ROC AUC')\n",
        "plt.xticks(rotation=90)\n",
        "plt.axvline(x=first_analysis, label='First analysis chunk', linestyle=':', color='grey')\n",
        "plt.ylabel('ROC AUC')\n",
        "plt.legend()\n",
        "plt.show()"
      ],
      "metadata": {
        "colab": {
          "base_uri": "https://localhost:8080/",
          "height": 360
        },
        "id": "BchyKTyj5UZM",
        "outputId": "add8cefa-4131-4153-fbeb-700732215a27"
      },
      "execution_count": 96,
      "outputs": [
        {
          "output_type": "display_data",
          "data": {
            "text/plain": [
              "<Figure size 720x360 with 1 Axes>"
            ],
            "image/png": "[encoded data removed]"
          },
          "metadata": {
            "needs_background": "light"
          }
        }
      ]
    },
    {
      "cell_type": "code",
      "source": [
        "from sklearn.metrics import roc_auc_score\n",
        "import matplotlib.pyplot as plt\n",
        "# add ground truth to analysis\n",
        "analysis_targets = CBPE_gt[['id','class']]\n",
        "analysis_full = pd.merge(analysis_df, analysis_targets, on = 'id')\n",
        "df_all = pd.concat([reference_df, analysis_full]).reset_index(drop=True)\n",
        "#df_all['timestamp'] = pd.to_datetime(df_all['timestamp'])\n",
        "# calculate actual ROC AUC\n",
        "target_col = cbpe.y_true\n",
        "pred_score_col = 'predict_proba'\n",
        "actual_performance = []\n",
        "for idx in CBPE_results.index:\n",
        "    start_date, end_date = CBPE_results.loc[idx, ('chunk', 'start_date')], CBPE_results.loc[idx, ('chunk', 'end_date')]\n",
        "    sub = df_all[df_all['timestamp'].between(start_date, end_date)]\n",
        "    actual_perf = accuracy_score(sub[target_col], round(sub[pred_score_col]))\n",
        "    CBPE_results.loc[idx, ('accuracy', 'realized')] = actual_perf\n",
        "# plot\n",
        "first_analysis = CBPE_results[('chunk', 'key')].values[8]\n",
        "plt.figure(figsize=(10,5))\n",
        "plt.plot(CBPE_results[('chunk', 'key')], CBPE_results[('accuracy', 'value')], label='estimated accuracy')\n",
        "plt.plot(CBPE_results[('chunk', 'key')], CBPE_results[('accuracy', 'realized')], label='actual accuracy')\n",
        "plt.xticks(rotation=90)\n",
        "plt.axvline(x=first_analysis, label='First analysis chunk', linestyle=':', color='grey')\n",
        "plt.ylabel('accuracy')\n",
        "plt.legend()\n",
        "plt.show()"
      ],
      "metadata": {
        "colab": {
          "base_uri": "https://localhost:8080/",
          "height": 359
        },
        "id": "5gmc8JHc8DMp",
        "outputId": "34e235dd-8710-462b-f3de-0baf27341cd3"
      },
      "execution_count": 97,
      "outputs": [
        {
          "output_type": "display_data",
          "data": {
            "text/plain": [
              "<Figure size 720x360 with 1 Axes>"
            ],
            "image/png": "[encoded data removed]"
          },
          "metadata": {
            "needs_background": "light"
          }
        }
      ]
    },
    {
      "cell_type": "markdown",
      "source": [
        "###CRE"
      ],
      "metadata": {
        "id": "b3wSYj9lmR1_"
      }
    },
    {
      "cell_type": "markdown",
      "source": [
        "##### Functions"
      ],
      "metadata": {
        "id": "HX8PbxbmUgYE"
      }
    },
    {
      "cell_type": "code",
      "source": [
        "# Place the predicted datapoints in the right bins\n",
        "def card (P, B):\n",
        "  datapoint_series = P.copy()\n",
        "  initial_y_hat, starttime, b1 = datapoint_series[0]\n",
        "  final_y_hat, endtime, bfinal = datapoint_series[-1]\n",
        "  \n",
        "  # time passed since datapoint first arrived\n",
        "  time_passed = endtime-starttime\n",
        "  timebloks = time_passed/B\n",
        "  \n",
        "  # make timebloks\n",
        "  timeblok_array = []\n",
        "  for i in range(B):\n",
        "    timeblok_array.append(starttime + (i+1)*timebloks)\n",
        "\n",
        "  # If the point does not have an bin, place it in the correct bin.\n",
        "  for indx, instance in enumerate(datapoint_series):\n",
        "    y_hat, time, B = instance\n",
        "    if B == -1:\n",
        "      for idx, i in enumerate(timeblok_array):\n",
        "        if time <= i:\n",
        "          datapoint_series[indx] = (y_hat, time, idx)\n",
        "    else:\n",
        "      continue\n",
        "  return datapoint_series\n"
      ],
      "metadata": {
        "id": "ES4g_kQhBqLC"
      },
      "execution_count": 80,
      "outputs": []
    },
    {
      "cell_type": "markdown",
      "source": [
        "##### Testing CRE"
      ],
      "metadata": {
        "id": "JKNK25-mmTdq"
      }
    },
    {
      "cell_type": "code",
      "source": [
        "# testing CRE\n",
        "CRE_send_dist = get_send_distribution(send_gt = 20, start_gt = 50)\n",
        "\n",
        "# copy arrays and add a id column\n",
        "CRE_production_data = production_data.copy()\n",
        "CRE_ground_truth = ground_truth.copy()\n",
        "CRE_ground_truth_calc = ground_truth.copy()\n",
        "\n",
        "#lists to store initial predictions and final predictions\n",
        "CRE_predictions = pd.DataFrame(columns=['y_hat','id'])\n",
        "CRE_final_predictions = pd.DataFrame(columns=['y_hat','id'])\n",
        "B = 5\n",
        "K= 10\n",
        "\n",
        "#copy of the data\n",
        "new_data=X_train.copy()\n",
        "new_data['class']=y_train\n",
        "\n",
        "#Dictionary of waiting instances per index:\n",
        "#[x_k,?] = instance without ground truth\n",
        "#l = (number of labeled instances)\n",
        "L = {}\n",
        "\n",
        "#Dictionary of lists of prediction tuples\n",
        "P = {}\n",
        "\n",
        "#define model\n",
        "model = rfc1\n",
        "\n",
        "#define start and endtime\n",
        "start_time = running_time(len(X_test))\n",
        "elapsed = 0\n"
      ],
      "metadata": {
        "id": "KXuhHx-pmX5p"
      },
      "execution_count": 98,
      "outputs": []
    },
    {
      "cell_type": "code",
      "source": [
        "# CRE based if pseudocode from the paper by Grzenda, Gomes and Bifet\n",
        "# https://link.springer.com/content/pdf/10.1007/s10618-019-00654-y.pdf?pdf=button\n",
        "for time, i in enumerate(CRE_send_dist):\n",
        "  #Model used for prediction\n",
        "  date_time = start_time + datetime.timedelta(minutes=elapsed)\n",
        "  elapsed +=5\n",
        "\n",
        "  # if i == 0 it is a datapoint\n",
        "  if i == 0:\n",
        "    # get the datapoint and drop it from the list\n",
        "    x = CRE_production_data.head(1)\n",
        "    CRE_production_data = CRE_production_data.tail(-1)\n",
        "    x_id = str(x['id'].iloc[0])\n",
        "    \n",
        "    #get data for prediction\n",
        "    prod_data = x.drop('id',axis=1)\n",
        "    \n",
        "    #predict point and add to prediction dataframe\n",
        "    y_hat = model.predict(prod_data)\n",
        "    new_row= pd.DataFrame({'y_hat': y_hat, 'id': x_id})\n",
        "    CRE_predictions = pd.concat([new_row,CRE_predictions.loc[:]]).reset_index(drop=True)\n",
        "\n",
        "    L[x_id]= [(x,0)]\n",
        "    P[x_id] = [(y_hat[0], date_time, 0)]\n",
        "\n",
        "  # if i ==1 it is the ground truth\n",
        "  else:\n",
        "    # get the datapoint and drop it from the list\n",
        "    y = CRE_ground_truth.head(1)\n",
        "    CRE_ground_truth = CRE_ground_truth.tail(-1)\n",
        "    y_id = str(y['id'].iloc[0])\n",
        "\n",
        "    #Add final prediction to P\n",
        "    GT_data = y.drop(['id','class'],axis=1)\n",
        "    \n",
        "    #predict point and add to prediction dataframe\n",
        "    y_hat = model.predict(GT_data)\n",
        "    new_row= pd.DataFrame({'y_hat': y_hat, 'id': y_id})\n",
        "    CRE_final_predictions = pd.concat([new_row,CRE_final_predictions.loc[:]]).reset_index(drop=True)\n",
        "    P[y_id].append((y['class'].iloc[0], date_time, B+1))\n",
        "\n",
        "    #CALCULATE_PERFORMANCE(P[x['index']], time)\n",
        "    P[y_id] = card(P[y_id],B)\n",
        "\n",
        "    new_row= {'variance': y[\"variance\"], 'skewness': y[\"skewness\"], 'curtosis': y[\"curtosis\"], 'entropy': y[\"entropy\"], 'class':y[\"class\"]}\n",
        "    new_data.append(new_row, ignore_index = True)\n",
        "    \n",
        "    # Remove from waiting dict\n",
        "    popped = L.pop(y_id)\n",
        "    for key in L:\n",
        "      if (L[key][-1][1]%K) ==0:\n",
        "        y_hat = model.predict(L[key][0][0].drop('id',axis=1))\n",
        "        P[key].append((y_hat, date_time, -1))\n",
        "      lst =list(L[key][-1])\n",
        "      lst[1]=L[key][-1][1]+1\n",
        "      L[key][-1]= tuple(lst)\n",
        "    \n",
        "    #train the model with the new datapoint added\n",
        "    new_rfc1 = RandomForestClassifier(max_depth = 1)\n",
        "    model = new_rfc1.fit(new_data.drop('class',axis=1), new_data['class'])"
      ],
      "metadata": {
        "id": "bLw9d22oeau5"
      },
      "execution_count": 99,
      "outputs": []
    },
    {
      "cell_type": "markdown",
      "source": [
        "##### Evaluation of CRE"
      ],
      "metadata": {
        "id": "FuTcS3wmIP-l"
      }
    },
    {
      "cell_type": "code",
      "source": [
        "# Function to get the scores\n",
        "def get_scores(actual, predictions):\n",
        "  accuracy= accuracy_score(actual, predictions)\n",
        "  f1= f1_score(actual, predictions)\n",
        "  precision= precision_score(actual, predictions)\n",
        "  roc_auc= roc_auc_score(actual, predictions)\n",
        "  recall= recall_score(actual, predictions)\n",
        "  # specificty is recall of negative class\n",
        "  specificity= recall_score(actual, predictions, pos_label=0)\n",
        "  return accuracy, f1, precision, roc_auc, recall, specificity\n"
      ],
      "metadata": {
        "id": "wEprS_SP5hVb"
      },
      "execution_count": 100,
      "outputs": []
    },
    {
      "cell_type": "code",
      "source": [
        "from sklearn.metrics import accuracy_score, f1_score, roc_auc_score, recall_score\n",
        "# calculate metrics:\n",
        "\n",
        "# Sort the predictions by id such that it matches the ground truth dataframe\n",
        "CRE_predictions.id = CRE_predictions.id.astype(float)\n",
        "sorted_CRE_predictions = CRE_predictions.sort_values(by=['id'])\n",
        "\n",
        "CRE_final_predictions.id = CRE_final_predictions.id.astype(float)\n",
        "sorted_CRE_final_predictions = CRE_final_predictions.sort_values(by=['id'])\n",
        "\n",
        "# Get the array of ground truths and predictions. \n",
        "gr = CRE_ground_truth_calc['class'].to_numpy()\n",
        "CRE_pred = sorted_CRE_predictions['y_hat'].to_numpy().astype(int)\n",
        "CRE_final_pred = sorted_CRE_final_predictions['y_hat'].to_numpy().astype(int)\n",
        "\n",
        "\n",
        "CRE_accuracy, CRE_f1, CRE_precision, CRE_roc_auc, CRE_recall, CRE_specificity = get_scores(gr, CRE_pred)\n",
        "\n",
        "CRE_final_accuracy, CRE_final_f1, CRE_final_precision, CRE_final_roc_auc, CRE_final_recall, CRE_final_specificity= get_scores(gr, CRE_final_pred)"
      ],
      "metadata": {
        "id": "j55Mlid2ITC9"
      },
      "execution_count": 101,
      "outputs": []
    },
    {
      "cell_type": "code",
      "source": [
        "print(CRE_accuracy, CRE_f1, CRE_precision, CRE_roc_auc, CRE_recall, CRE_specificity)\n",
        "print(CRE_final_accuracy, CRE_final_f1, CRE_final_precision, CRE_final_roc_auc, CRE_final_recall, CRE_final_specificity)"
      ],
      "metadata": {
        "colab": {
          "base_uri": "https://localhost:8080/"
        },
        "id": "HRN28N7FpOQ1",
        "outputId": "6a94c781-325f-4731-decf-422d072de9be"
      },
      "execution_count": 102,
      "outputs": [
        {
          "output_type": "stream",
          "name": "stdout",
          "text": [
            "0.9034608378870674 0.8869936034115138 0.9203539823008849 0.8985717743887679 0.8559670781893004 0.9411764705882353\n",
            "0.8816029143897997 0.8614072494669509 0.8938053097345132 0.8764221738077949 0.831275720164609 0.9215686274509803\n"
          ]
        }
      ]
    }
  ]
}